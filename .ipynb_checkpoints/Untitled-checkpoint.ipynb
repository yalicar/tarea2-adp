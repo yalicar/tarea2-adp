{
 "cells": [
  {
   "cell_type": "markdown",
   "metadata": {},
   "source": [
    "## Postgrado en Analisis y Prediccion de Datos"
   ]
  },
  {
   "cell_type": "markdown",
   "metadata": {},
   "source": [
    "_Febrero 2021, Yalmar Cardenas_"
   ]
  },
  {
   "cell_type": "markdown",
   "metadata": {},
   "source": [
    "_Hoja de trabajo #2 Sintaxis , Listas y Tuplas_"
   ]
  },
  {
   "cell_type": "markdown",
   "metadata": {},
   "source": [
    "**Entregable:** Su entregable debera ser un link al repositorio de git que contiene el Jupyter Notebook donde resolvio los ejercicios planteados.\n"
   ]
  },
  {
   "cell_type": "markdown",
   "metadata": {},
   "source": [
    "**Parte #1 - (Programacion y Sintaxis):** A continuacion se le muestran una lista de ejercicios\n",
    "que debera completar utilizando Python, debe usar Markdown para indicar donde inicia cada uno\n",
    "de los ejercicios."
   ]
  },
  {
   "cell_type": "markdown",
   "metadata": {},
   "source": [
    "1. Haga un programa en Python que reciba de parametro un numero de segundos y que despliegue en pantalla, las horas, minutos y segundos que representan. Por ejemplo:\n",
    "    - Si el numero de segundos recibidos fuera: 2743 entonces su programa deberıa desplegar:Horas: 0, Minutos: 45 , Segundos: 43\n",
    "    - Si el numero de segundos recibidos fuera 5871: Horas: 1, Minutos: 37 , Segundos: 51\n",
    "    \n",
    "    Recuerde manejar excepciones y errores que considere necesarios."
   ]
  },
  {
   "cell_type": "code",
   "execution_count": 22,
   "metadata": {},
   "outputs": [
    {
     "name": "stdin",
     "output_type": "stream",
     "text": [
      "ingrese la cantidad de segundos a convertir, debe ser un numero entero\n",
      " 8500\n"
     ]
    },
    {
     "name": "stdout",
     "output_type": "stream",
     "text": [
      "8500 Segundos equivalen a 2h 21m 40s.\n"
     ]
    }
   ],
   "source": [
    "while True:\n",
    "    try:\n",
    "        numero=int(input(\"ingrese la cantidad de segundos a convertir, debe ser un numero entero\\n\"))\n",
    "    except:\n",
    "        print(\"Por favor ingrese un numero entero\")\n",
    "    else:\n",
    "        break\n",
    "horas=int(numero/3600)\n",
    "minutos=int((numero-(horas*3600))/60)\n",
    "segundos = numero-((horas*3600)+(minutos*60))\n",
    "print(str(numero)+\" Segundos equivalen a \"+str(horas)+\"h \"+str(minutos)+\"m \"+str(segundos)+\"s.\")"
   ]
  },
  {
   "cell_type": "markdown",
   "metadata": {},
   "source": [
    "2. Haga una funci´on en Python que dado un numero entre 1 y 20. Y un caracter cualquiera despliegue cuatro patrones triangulares.\n",
    "\n",
    "Por ejemplo si el usuario ingresara el n´umero 4 y el sımbolo * el programa debera desplegar\n",
    "lo siguiente:"
   ]
  },
  {
   "cell_type": "code",
   "execution_count": 23,
   "metadata": {},
   "outputs": [
    {
     "name": "stdout",
     "output_type": "stream",
     "text": [
      "Introduzca un valor, por favor entre 1 y 20 : "
     ]
    },
    {
     "name": "stdin",
     "output_type": "stream",
     "text": [
      " 5\n",
      "Ingrese un caracter cualquiera:  k\n"
     ]
    },
    {
     "name": "stdout",
     "output_type": "stream",
     "text": [
      "5\n",
      "\n",
      "k\n",
      "kk\n",
      "kkk\n",
      "kkkk\n",
      "kkkkk\n",
      "     \n",
      "    k\n",
      "   kk\n",
      "  kkk\n",
      " kkkk\n",
      "kkkkk\n",
      "     \n",
      "    k \n",
      "   k k \n",
      "  k k k \n",
      " k k k k \n",
      "k k k k k \n",
      "\n",
      "\n",
      "k k k k k \n",
      " k k k k \n",
      "  k k k \n",
      "   k k \n",
      "    k \n",
      "     \n"
     ]
    }
   ],
   "source": [
    "#variable que indica si el valor es válido\n",
    "#inicialmente no lo es\n",
    "valido = False\n",
    "\n",
    "#Funcion para validar que el numero es un entero entre 1 y 20.\n",
    "def validar(valor):\n",
    "    try:\n",
    "        entero = int(valor)\n",
    "    except ValueError:\n",
    "        return False #si la conversión falla devolvemos False\n",
    "    return entero >= 1 and entero <= 20\n",
    "print('Introduzca un valor, por favor entre 1 y 20 : ', end='')\n",
    "\n",
    "#bucle para pedir el valor\n",
    "while not valido:\n",
    "    valor = input()\n",
    "    valido = validar(valor) #llamado de la funcion validar.\n",
    "    if not valido:\n",
    "        print('Lo siento, el valor no es válido, vuelva a intentarlo: ', end='')    \n",
    "            \n",
    "    \n",
    "def lee_caracter():\n",
    "    \"\"\" Solicita un valor caracter y lo devuelve.\"\"\"\n",
    "    while True:\n",
    "        caracter = input(\"Ingrese un caracter cualquiera: \")\n",
    "        try:\n",
    "            caracter = str(caracter)\n",
    "            return caracter\n",
    "        except ValueError:\n",
    "            print (\"ATENCIÓN: Debe ingresar un caracter.\")\n",
    "\n",
    "n= int(valor)\n",
    "m= lee_caracter()\n",
    "\n",
    "print(n)\n",
    "\n",
    "\n",
    "def primer_triangulo():\n",
    "    for i in range(n+1):\n",
    "        print(m*i)\n",
    "        \n",
    "def segundo_triangulo():\n",
    "    for i in range(n+1):\n",
    "        espacio= n-i\n",
    "        print(' '*espacio + m*i)\n",
    "def tercer_triangulo():\n",
    "    for i in range(n+1):\n",
    "        espacio= n-i\n",
    "        l= m+' '\n",
    "        print(' '*espacio + l*i)\n",
    "    print ('\\n')\n",
    "    \n",
    "def cuarto_triangulo():\n",
    "    for i in range(n+1):\n",
    "        espacio=i\n",
    "        l=m+' '\n",
    "        k=n-i\n",
    "        print(' '*espacio+l*k)\n",
    "        \n",
    "        \n",
    "primer_triangulo()\n",
    "segundo_triangulo()\n",
    "tercer_triangulo()\n",
    "cuarto_triangulo()\n",
    "    "
   ]
  },
  {
   "cell_type": "markdown",
   "metadata": {},
   "source": [
    "3. Haga un programa en Python que la fecha de nacimiento de una persona (puede ingresar por separado cada valor, es decir pedir primero dıa, luego mes y luego ano), despliegue la edad de la persona en anos, meses y dıas. Su resultado puede ser aproximado."
   ]
  },
  {
   "cell_type": "code",
   "execution_count": 28,
   "metadata": {},
   "outputs": [
    {
     "name": "stdout",
     "output_type": "stream",
     "text": [
      "Introduzca un dia, el dia debe estar entre 0 y 31 : "
     ]
    },
    {
     "name": "stdin",
     "output_type": "stream",
     "text": [
      " 25\n"
     ]
    },
    {
     "name": "stdout",
     "output_type": "stream",
     "text": [
      "Introduzca un mes, el mes debe estar entre 1 y 12 : "
     ]
    },
    {
     "name": "stdin",
     "output_type": "stream",
     "text": [
      " 6\n"
     ]
    },
    {
     "name": "stdout",
     "output_type": "stream",
     "text": [
      "Introduzca un año, el año debe estar entre 0 y 2021 : "
     ]
    },
    {
     "name": "stdin",
     "output_type": "stream",
     "text": [
      " 1990\n"
     ]
    },
    {
     "name": "stdout",
     "output_type": "stream",
     "text": [
      "Usted tiene 30 años, 7 meses y 27 días\n"
     ]
    }
   ],
   "source": [
    "#### from datetime import datetime #importacion de la libreria datetime\n",
    "from datetime import datetime\n",
    "from dateutil.relativedelta import relativedelta # imortacion de la clase relativedelta\n",
    "\n",
    "\n",
    "#Funcion para validar que el numero es un entero entre 1 y 20.\n",
    "def validar(valor,a,b):\n",
    "    try:\n",
    "        entero = int(valor)\n",
    "    except ValueError:\n",
    "        return False #si la conversión falla devolvemos False\n",
    "    return entero >= a and entero <= b\n",
    "\n",
    "\n",
    "\n",
    "#bucle para pedir el valor\n",
    "def pedir(x,y,z):\n",
    "    val = False\n",
    "    while not val:\n",
    "        print(f\"Introduzca un {z}, el {z} debe estar entre {x} y {y} : \", end='')\n",
    "        valor = input()\n",
    "        val = validar(valor,x,y) #llamado de la funcion validar.\n",
    "        if not val:\n",
    "            print('Lo siento, el valor no es válido, vuelva a intentarlo: ', end='')\n",
    "    return valor\n",
    "    \n",
    "\n",
    "\n",
    "day=pedir(0,31,\"dia\")\n",
    "month=pedir(1,12,\"mes\")\n",
    "year=pedir(0,2021,\"año\")\n",
    "\n",
    "\n",
    "\n",
    "hoy = date.today()\n",
    "fecha = day + \"/\" + month +\"/\" + year\n",
    "fecha_nacimiento = datetime.strptime(fecha, \"%d/%m/%Y\")\n",
    "edad = relativedelta(datetime.now(), fecha_nacimiento)\n",
    "print(f\"Usted tiene {edad.years} años, {edad.months} meses y {edad.days} días\")\n",
    "\n",
    "\n",
    "    \n"
   ]
  },
  {
   "cell_type": "markdown",
   "metadata": {},
   "source": [
    "**Parte #2 - (Estructuras de Datos):** Resuelva los siguientes ejercicios sobre estructuras de datos en Python."
   ]
  },
  {
   "cell_type": "markdown",
   "metadata": {},
   "source": [
    "1. Escriba una funcion en Python que dada una tupla de elementos (numeros o letras) esta se convierta a un string. Tomar nota del siguiente ejemplo: Si la entrada fuera: (10, 20, 40, 5, 70)La salida deberıa ser: 102040570\n",
    "    - Si la entrada fuera: (10, 20, 40, 5, 70)\n",
    "    - La salida deber´ıa ser: 102040570"
   ]
  },
  {
   "cell_type": "code",
   "execution_count": 29,
   "metadata": {},
   "outputs": [
    {
     "name": "stdout",
     "output_type": "stream",
     "text": [
      "02m5225kj65\n",
      "102040570\n"
     ]
    }
   ],
   "source": [
    "tup = (0,\"2\",\"m\",52,25,\"kj\",65) # Usando tupla con numeros y letras\n",
    "tup2=(10,20,40,5,70) # Usando la tupla del ejemplo solicitado.\n",
    "def convertir(a):\n",
    "    string=''\n",
    "    for i in range(len(a)):\n",
    "        string=string + str(a[i])\n",
    "        string=str(string)\n",
    "    return string\n",
    "resp=convertir(tup)\n",
    "resp2=convertir(tup2)\n",
    "\n",
    "print(resp) # impresion de la primera tupla compuesta de numeros y letras\n",
    "print(resp2) # Impresuon de la segunda tupla, tupla del ejemplo solicitado."
   ]
  },
  {
   "cell_type": "markdown",
   "metadata": {},
   "source": [
    "2. Cree un programa en Python que dada una lista de tuplas, elimine las tuplas que estan vacıas. Tomar nota del siguiente ejemplo:\n",
    "    - Si la lista fuera: [(), (), (’X’,), (’a’, ’b’), (’a’, ’b’, ’c’), (’d’)]\n",
    "    - El resultado deber´ıa ser: [(’X’), (’a’, ’b’), (’a’, ’b’, ’c’), ’d’]"
   ]
  },
  {
   "cell_type": "code",
   "execution_count": 30,
   "metadata": {},
   "outputs": [
    {
     "name": "stdout",
     "output_type": "stream",
     "text": [
      "[('X',), ('a', 'b'), ('a', 'b', 'c'), 'd']\n",
      "Tu has removido 2 tuplas vacias\n"
     ]
    }
   ],
   "source": [
    "tups= [(), (), (\"X\",), (\"a\", \"b\"), (\"a\", \"b\", \"c\"), (\"d\")]\n",
    "\n",
    "tups2=[t for t in tups if t] \n",
    "print(tups2)\n",
    "print(f\"Tu has removido {len(tups)-len(tups2)} tuplas vacias\")\n"
   ]
  },
  {
   "cell_type": "markdown",
   "metadata": {},
   "source": [
    "3. Cree una funcion en Python que dada una tupla de tuplas con numeros, produzca una tupla con el promedio de cada tupla individual. Tomar nota del siguiente ejemplo:\n",
    "    - Si la tupla de entrada fuera: ((10, 10, 10, 12), (30, 45, 56, 45), (81, 80, 39, 32))\n",
    "    - El resultado deberıa ser: (10.5, 44, 58)"
   ]
  },
  {
   "cell_type": "code",
   "execution_count": 31,
   "metadata": {},
   "outputs": [
    {
     "name": "stdout",
     "output_type": "stream",
     "text": [
      "(10.5, 44, 58)\n",
      "Tupla_promedio es de tipo <class 'tuple'>\n"
     ]
    }
   ],
   "source": [
    "tup3=((10, 10, 10, 12), (30, 45, 56, 45), (81, 80, 39, 32))\n",
    "\n",
    "\n",
    "\n",
    "def promedio(d): # Funcion para calcular el promedio de cada tupla enviada\n",
    "    suma=0\n",
    "    #list=[]\n",
    "    for i in range(len(d)):\n",
    "        suma=suma+int(d[i])\n",
    "    p=float(suma/len(d))\n",
    "   # print(p) Prueba de impresion\n",
    "    return (p)\n",
    "def recorrer(e): #funcion para recorrer una tupla\n",
    "    list1=[]\n",
    "    for i in range(len(e)):\n",
    "        x=promedio(e[i])\n",
    "        if (x % 1==0):   # comprobacion si es un numero entero o un flotante\n",
    "            list1.append(int(x))\n",
    "        else:\n",
    "            list1.append(float(x))\n",
    "       # print(list1) Prueba de impresion\n",
    "    return list1\n",
    "    \n",
    "\n",
    "    \n",
    "tupla_promedio=tuple(recorrer(tup3)) # Lamada de la funcion recorer y conversion lista a tupla\n",
    "print(tupla_promedio)\n",
    "print(f\"Tupla_promedio es de tipo {type(tupla_promedio)}\") #confirmar que se creo una tupla\n"
   ]
  },
  {
   "cell_type": "code",
   "execution_count": null,
   "metadata": {},
   "outputs": [],
   "source": []
  }
 ],
 "metadata": {
  "kernelspec": {
   "display_name": "Python 3",
   "language": "python",
   "name": "python3"
  },
  "language_info": {
   "codemirror_mode": {
    "name": "ipython",
    "version": 3
   },
   "file_extension": ".py",
   "mimetype": "text/x-python",
   "name": "python",
   "nbconvert_exporter": "python",
   "pygments_lexer": "ipython3",
   "version": "3.8.5"
  }
 },
 "nbformat": 4,
 "nbformat_minor": 4
}
