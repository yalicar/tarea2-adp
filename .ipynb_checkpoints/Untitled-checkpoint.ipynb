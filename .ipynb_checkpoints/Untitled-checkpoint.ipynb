{
 "cells": [
  {
   "cell_type": "markdown",
   "metadata": {},
   "source": [
    "## Postgrado en Analisis y Prediccion de Datos"
   ]
  },
  {
   "cell_type": "markdown",
   "metadata": {},
   "source": [
    "_Febrero 2021, Yalmar Cardenas_"
   ]
  },
  {
   "cell_type": "markdown",
   "metadata": {},
   "source": [
    "_Hoja de trabajo #2 Sintaxis , Listas y Tuplas_"
   ]
  },
  {
   "cell_type": "markdown",
   "metadata": {},
   "source": [
    "**Entregable:** Su entregable debera ser un link al repositorio de git que contiene el Jupyter Notebook donde resolvio los ejercicios planteados.\n"
   ]
  },
  {
   "cell_type": "markdown",
   "metadata": {},
   "source": [
    "**Parte #1 - (Programacion y Sintaxis):** A continuacion se le muestran una lista de ejercicios\n",
    "que debera completar utilizando Python, debe usar Markdown para indicar donde inicia cada uno\n",
    "de los ejercicios."
   ]
  },
  {
   "cell_type": "markdown",
   "metadata": {},
   "source": [
    "1. Haga un programa en Python que reciba de parametro un numero de segundos y que despliegue en pantalla, las horas, minutos y segundos que representan. Por ejemplo:\n",
    "    - Si el numero de segundos recibidos fuera: 2743 entonces su programa deberıa desplegar:Horas: 0, Minutos: 45 , Segundos: 43\n",
    "    - Si el numero de segundos recibidos fuera 5871: Horas: 1, Minutos: 37 , Segundos: 51\n",
    "    \n",
    "    Recuerde manejar excepciones y errores que considere necesarios."
   ]
  },
  {
   "cell_type": "code",
   "execution_count": 5,
   "metadata": {},
   "outputs": [
    {
     "name": "stdin",
     "output_type": "stream",
     "text": [
      "ingrese la cantidad de segundos a convertir, debe ser un numero entero\n",
      " 450\n"
     ]
    },
    {
     "name": "stdout",
     "output_type": "stream",
     "text": [
      "450 Segundos equivalen a 0h 7m 30s\n"
     ]
    }
   ],
   "source": [
    "while True:\n",
    "    try:\n",
    "        numero=int(input(\"ingrese la cantidad de segundos a convertir, debe ser un numero entero\\n\"))\n",
    "    except:\n",
    "        print(\"Por favor ingrese un numero entero\")\n",
    "    else:\n",
    "        break\n",
    "horas=int(numero/3600)\n",
    "minutos=int((numero-(horas*3600))/60)\n",
    "segundos = numero-((horas*3600)+(minutos*60))\n",
    "print(str(numero)+\" Segundos equivalen a \"+str(horas)+\"h \"+str(minutos)+\"m \"+str(segundos)+\"s.\")"
   ]
  },
  {
   "cell_type": "markdown",
   "metadata": {},
   "source": [
    "2. Haga una funci´on en Python que dado un numero entre 1 y 20. Y un caracter cualquiera despliegue cuatro patrones triangulares.\n",
    "\n",
    "Por ejemplo si el usuario ingresara el n´umero 4 y el sımbolo * el programa debera desplegar\n",
    "lo siguiente:"
   ]
  },
  {
   "cell_type": "code",
   "execution_count": 11,
   "metadata": {},
   "outputs": [
    {
     "name": "stdout",
     "output_type": "stream",
     "text": [
      "Introduzca un valor, por favor entre 1 y 20 : "
     ]
    },
    {
     "name": "stdin",
     "output_type": "stream",
     "text": [
      " 1\n"
     ]
    },
    {
     "name": "stdout",
     "output_type": "stream",
     "text": [
      "El valor válido es 1.\n"
     ]
    },
    {
     "name": "stdin",
     "output_type": "stream",
     "text": [
      "Ingrese un caracter cualquiera:  l\n"
     ]
    },
    {
     "name": "stdout",
     "output_type": "stream",
     "text": [
      "1\n",
      "\n",
      "l\n",
      " \n",
      "l\n",
      " \n",
      "l \n",
      "\n",
      "\n",
      "l \n",
      " \n"
     ]
    }
   ],
   "source": [
    "#variable que indica si el valor es válido\n",
    "#inicialmente no lo es\n",
    "valido = False\n",
    "\n",
    "#Funcion para validar que el numero es un entero entre 1 y 20.\n",
    "def validar(valor):\n",
    "    try:\n",
    "        entero = int(valor)\n",
    "    except ValueError:\n",
    "        return False #si la conversión falla devolvemos False\n",
    "    return entero >= 1 and entero <= 20\n",
    "print('Introduzca un valor, por favor entre 1 y 20 : ', end='')\n",
    "\n",
    "#bucle para pedir el valor\n",
    "while not valido:\n",
    "    valor = input()\n",
    "    valido = validar(valor) #llamado de la funcion validar.\n",
    "    if not valido:\n",
    "        print('Lo siento, el valor no es válido, vuelva a intentarlo: ', end='')    \n",
    "            \n",
    "    \n",
    "def lee_caracter():\n",
    "    \"\"\" Solicita un valor caracter y lo devuelve.\"\"\"\n",
    "    while True:\n",
    "        caracter = input(\"Ingrese un caracter cualquiera: \")\n",
    "        try:\n",
    "            caracter = str(caracter)\n",
    "            return caracter\n",
    "        except ValueError:\n",
    "            print (\"ATENCIÓN: Debe ingresar un caracter.\")\n",
    "\n",
    "n= int(valor)\n",
    "m= lee_caracter()\n",
    "\n",
    "print(n)\n",
    "\n",
    "\n",
    "def primer_triangulo():\n",
    "    for i in range(n+1):\n",
    "        print(m*i)\n",
    "        \n",
    "def segundo_triangulo():\n",
    "    for i in range(n+1):\n",
    "        espacio= n-i\n",
    "        print(' '*espacio + m*i)\n",
    "def tercer_triangulo():\n",
    "    for i in range(n+1):\n",
    "        espacio= n-i\n",
    "        l= m+' '\n",
    "        print(' '*espacio + l*i)\n",
    "    print ('\\n')\n",
    "    \n",
    "def cuarto_triangulo():\n",
    "    for i in range(n+1):\n",
    "        espacio=i\n",
    "        l=m+' '\n",
    "        k=n-i\n",
    "        print(' '*espacio+l*k)\n",
    "        \n",
    "        \n",
    "primer_triangulo()\n",
    "segundo_triangulo()\n",
    "tercer_triangulo()\n",
    "cuarto_triangulo()\n",
    "    "
   ]
  },
  {
   "cell_type": "markdown",
   "metadata": {},
   "source": [
    "3. Haga un programa en Python que la fecha de nacimiento de una persona (puede ingresar por separado cada valor, es decir pedir primero dıa, luego mes y luego ano), despliegue la edad de la persona en anos, meses y dıas. Su resultado puede ser aproximado."
   ]
  },
  {
   "cell_type": "code",
   "execution_count": 144,
   "metadata": {},
   "outputs": [
    {
     "name": "stdout",
     "output_type": "stream",
     "text": [
      "Introduzca un dia, el dia debe estar entre 0 y 31 : "
     ]
    },
    {
     "name": "stdin",
     "output_type": "stream",
     "text": [
      " 16\n"
     ]
    },
    {
     "name": "stdout",
     "output_type": "stream",
     "text": [
      "Introduzca un mes, el mes debe estar entre 1 y 12 : "
     ]
    },
    {
     "name": "stdin",
     "output_type": "stream",
     "text": [
      " 5\n"
     ]
    },
    {
     "name": "stdout",
     "output_type": "stream",
     "text": [
      "Introduzca un año, el año debe estar entre 0 y 2021 : "
     ]
    },
    {
     "name": "stdin",
     "output_type": "stream",
     "text": [
      " 1990\n"
     ]
    },
    {
     "name": "stdout",
     "output_type": "stream",
     "text": [
      "Usted tiene 30 años, 9 meses y 4 días\n"
     ]
    }
   ],
   "source": [
    "#### from datetime import datetime #importacion de la libreria datetime\n",
    "from dateutil.relativedelta import relativedelta # imortacion de la clase relativedelta\n",
    "\n",
    "\n",
    "#Funcion para validar que el numero es un entero entre 1 y 20.\n",
    "def validar(valor,a,b):\n",
    "    try:\n",
    "        entero = int(valor)\n",
    "    except ValueError:\n",
    "        return False #si la conversión falla devolvemos False\n",
    "    return entero >= a and entero <= b\n",
    "\n",
    "\n",
    "\n",
    "#bucle para pedir el valor\n",
    "def pedir(x,y,z):\n",
    "    val = False\n",
    "    while not val:\n",
    "        print(f\"Introduzca un {z}, el {z} debe estar entre {x} y {y} : \", end='')\n",
    "        valor = input()\n",
    "        val = validar(valor,x,y) #llamado de la funcion validar.\n",
    "        if not val:\n",
    "            print('Lo siento, el valor no es válido, vuelva a intentarlo: ', end='')\n",
    "    return valor\n",
    "    \n",
    "\n",
    "\n",
    "day=pedir(0,31,\"dia\")\n",
    "month=pedir(1,12,\"mes\")\n",
    "year=pedir(0,2021,\"año\")\n",
    "\n",
    "\n",
    "\n",
    "hoy = date.today()\n",
    "fecha = day + \"/\" + month +\"/\" + year\n",
    "fecha_nacimiento = datetime.strptime(fecha, \"%d/%m/%Y\")\n",
    "edad = relativedelta(datetime.now(), fecha_nacimiento)\n",
    "print(f\"Usted tiene {edad.years} años, {edad.months} meses y {edad.days} días\")\n",
    "\n",
    "\n",
    "    \n"
   ]
  },
  {
   "cell_type": "markdown",
   "metadata": {},
   "source": [
    "**Parte #2 - (Estructuras de Datos):** Resuelva los siguientes ejercicios sobre estructuras de datos en Python."
   ]
  },
  {
   "cell_type": "markdown",
   "metadata": {},
   "source": [
    "1. Escriba una funcion en Python que dada una tupla de elementos (numeros o letras) esta se convierta a un string. Tomar nota del siguiente ejemplo: Si la entrada fuera: (10, 20, 40, 5, 70)La salida deber´ıa ser: 102040570"
   ]
  },
  {
   "cell_type": "code",
   "execution_count": null,
   "metadata": {},
   "outputs": [],
   "source": [
    "tupla = ()"
   ]
  }
 ],
 "metadata": {
  "kernelspec": {
   "display_name": "Python 3",
   "language": "python",
   "name": "python3"
  },
  "language_info": {
   "codemirror_mode": {
    "name": "ipython",
    "version": 3
   },
   "file_extension": ".py",
   "mimetype": "text/x-python",
   "name": "python",
   "nbconvert_exporter": "python",
   "pygments_lexer": "ipython3",
   "version": "3.8.5"
  }
 },
 "nbformat": 4,
 "nbformat_minor": 4
}
